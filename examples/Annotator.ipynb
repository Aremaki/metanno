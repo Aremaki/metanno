{
 "cells": [
  {
   "cell_type": "code",
   "execution_count": 1,
   "metadata": {},
   "outputs": [],
   "source": [
    "%load_ext autoreload\n",
    "%autoreload 2"
   ]
  },
  {
   "cell_type": "code",
   "execution_count": 2,
   "metadata": {},
   "outputs": [],
   "source": [
    "import sys\n",
    "sys.path.append(\"/Users/perceval/Development/jupytanno/\")\n",
    "\n",
    "from jupytanno import App, kernel_only, frontend_only, produce, chain_map\n",
    "from jupytanno.immutable import commit\n",
    "from jupytanno.python_to_javascript import transkrypt_class\n",
    "from jupytanno.brat import load_from_brat\n",
    "import logging\n",
    "\n",
    "from collections import Counter\n",
    "import re\n",
    "\n",
    "colors = [\n",
    "\"rgb(255,200,206)\",\n",
    "\"rgb(210,236,247)\",\n",
    "\"rgb(211,242,206)\",\n",
    "\"rgb(242,242,206)\",\n",
    "\"rgb(231,210,247)\",\n",
    "\"rgb(252,215,216)\",\n",
    "\"rgb(251,243,219)\",\n",
    "\"rgb(250,231,212)\",\n",
    "\"rgb(250,212,229)\",\n",
    "]\n",
    "\n",
    "class BRATApp(App):\n",
    "    def __init__(self, path=None):\n",
    "        super().__init__()\n",
    "        \n",
    "        state = {\n",
    "            \"text\": \"\",\n",
    "            \"spans\": [],\n",
    "            \"docs\": [],\n",
    "            \"styles\": {},\n",
    "            \"next_span_id\": 1,\n",
    "            \"mouse_selection\": [],\n",
    "            \"attributes\": [],\n",
    "        }\n",
    "        self.state = state\n",
    "        self.label_config = {\n",
    "            \"neg\": (\"#ff5b5b\", \"n\"),\n",
    "            \"quad\": (\"#0f8edc\", \"q\"),\n",
    "        }\n",
    "        \n",
    "        if path is not None:\n",
    "            self.dataset = list(load_from_brat(path))\n",
    "            labels = [label for label, count in sorted(Counter(e[\"label\"] for d in self.dataset for e in d[\"entities\"]).items(), key=lambda x: -x[1])]\n",
    "            self.state['docs'] = [{\"id\": doc[\"doc_id\"]} for doc in self.dataset]\n",
    "            self.state[\"styles\"] = {\n",
    "                label: {\"color\": self.label_config.get(label, (color,))[0], \"alpha\": 0.8}\n",
    "                for label, color in zip(labels, colors)\n",
    "            }\n",
    "            self.state[\"attributes\"] = sorted(set(a['label'] for d in self.dataset for e in d['entities'] for a in e['attributes']))\n",
    "            self.change_doc(self.dataset[0]['doc_id'])\n",
    "        \n",
    "    def on_state_change(self, state, old_state):\n",
    "        #logs.append(state[\"spans\"] is not old_state[\"spans\"])\n",
    "        pass\n",
    "    \n",
    "    def select_editor_state(self, state, editor_id):\n",
    "        if editor_id == \"my-editor\":\n",
    "            return dict(\n",
    "                text=state[\"text\"],\n",
    "                spans=[{\n",
    "                            \"begin\": span[\"begin\"],\n",
    "                            \"end\": span[\"end\"],\n",
    "                            \"label\": [label for label in span[\"label\"] if label in state[\"styles\"]][0],\n",
    "                            \"style\": [label for label in span[\"label\"] if label in state[\"styles\"]][0],\n",
    "                            \"id\": span[\"id\"],\n",
    "                            \"highlighted\": span[\"highlighted\"],\n",
    "                            \"selected\": span[\"selected\"],\n",
    "                        } for span in state[\"spans\"]],\n",
    "                styles=state[\"styles\"],\n",
    "                mouse_selection=state[\"mouse_selection\"],\n",
    "                buttons=[],\n",
    "            )\n",
    "        elif editor_id == \"docs-table\":\n",
    "            return dict(\n",
    "                rows=[{\n",
    "                    \"doc_id\": {\"key\": doc[\"id\"], \"text\": doc[\"id\"]},\n",
    "                    \"key\": doc[\"id\"],\n",
    "                    \"highlighted\": False,\n",
    "                } for doc in state[\"docs\"]],\n",
    "                rowKey=\"key\",\n",
    "                columns=[\n",
    "                    {\n",
    "                        \"name\": \"doc_id\",\n",
    "                        \"type\": \"hyperlink\",\n",
    "                    },\n",
    "                ],\n",
    "                selectedRows=[],\n",
    "            )\n",
    "        elif editor_id == \"mentions-table\":\n",
    "            res = dict(\n",
    "                rows=[{\n",
    "                    \"id\": span[\"id\"],\n",
    "                    \"highlighted\": span[\"highlighted\"],\n",
    "                    \"visible\": True,\n",
    "                    \"mention\": {\n",
    "                        \"text\": state[\"text\"][span[\"begin\"]:span[\"end\"]],\n",
    "                        \"key\": span[\"id\"],\n",
    "                    },\n",
    "                    \"labels\": chain_list(span[\"label\"], [span['attributes'][a] for a in state['attributes'] if a in span['attributes']]),\n",
    "                    \"custom_link\": span[\"custom_link\"],\n",
    "                } for span in state[\"spans\"]],\n",
    "                rowKey=\"id\",\n",
    "                columns=[\n",
    "                    {\n",
    "                        \"name\": \"mention\",\n",
    "                        \"type\": \"hyperlink\",\n",
    "                    },\n",
    "                    {\n",
    "                        \"name\": \"labels\",\n",
    "                        \"type\": \"multi-text\",\n",
    "                        \"suggestions\": [],\n",
    "                    },\n",
    "                    {\n",
    "                        \"name\": \"custom_link\",\n",
    "                        \"type\": \"hyperlink\",\n",
    "                        \"readonly\": False,\n",
    "                        \"suggestions\": [\n",
    "                            {\"text\": state[\"text\"][span[\"begin\"]:span[\"end\"]], \"key\": span[\"id\"]}\n",
    "                            for span in state[\"spans\"]\n",
    "                        ],\n",
    "                    },\n",
    "                ],\n",
    "                selectedRows=[span[\"id\"] for i, span in enumerate(state[\"spans\"]) if span[\"selected\"]],\n",
    "            )\n",
    "            #res['columns'].extend([\n",
    "            #    {\n",
    "            #        \"name\": name,\n",
    "            #        \"type\": \"text\",\n",
    "            #    } for name in state['attributes']\n",
    "            #])\n",
    "            #print(res['columns'])\n",
    "            return res\n",
    "        raise Exception()\n",
    "        \n",
    "    @produce\n",
    "    def handle_mouse_select(self, editor_id, modkeys, spans):\n",
    "        print(spans)\n",
    "        if \"Shift\" in modkeys:\n",
    "            self.state[\"mouse_selection\"].extend(spans)\n",
    "        else:\n",
    "            self.state[\"mouse_selection\"] = spans\n",
    "    \n",
    "    @produce\n",
    "    def handle_button_press(self, editor_id, button_idx, selections):\n",
    "        button_presses.append((editor_id, button_idx, selections))\n",
    "    \n",
    "    @produce\n",
    "    @frontend_only\n",
    "    def handle_enter_span(self, editor_id, span_id, modkeys):\n",
    "        for span in self.state[\"spans\"]:\n",
    "            if span['id'] == span_id:\n",
    "                span['highlighted'] = True\n",
    "            \n",
    "    @produce\n",
    "    @frontend_only\n",
    "    def handle_leave_span(self, editor_id, span_id, modkeys):\n",
    "        for span in self.state[\"spans\"]:\n",
    "            if span['id'] == span_id:\n",
    "                span['highlighted'] = False\n",
    "    \n",
    "    @produce\n",
    "    def handle_key_press(self, editor_id, key, modkeys, spans):\n",
    "        def has_overlap(x, y):\n",
    "            return not (x['end'] <= y['begin'] or y['end'] <= x['begin'])\n",
    "        text = self.state[\"text\"]\n",
    "        next_span_id = self.state[\"next_span_id\"]\n",
    "        if key == \" \":\n",
    "            first_selection = self.state[\"mouse_selection\"][0]\n",
    "            term = self.state[\"text\"][first_selection[\"begin\"]:first_selection[\"end\"]]\n",
    "            next_occurence = self.state[\"text\"].find(term, self.state[\"mouse_selection\"][len(self.state[\"mouse_selection\"])-1][\"end\"])\n",
    "            if next_occurence > 0:\n",
    "                self.state[\"mouse_selection\"].append({\"begin\": next_occurence, \"end\": next_occurence + len(term)})\n",
    "        if key == \"Backspace\":\n",
    "            self.state[\"spans\"] = [\n",
    "                span\n",
    "                for span in self.state[\"spans\"]\n",
    "                if not any(has_overlap(span, mouse_span) for mouse_span in spans)\n",
    "            ]\n",
    "        elif len(spans):\n",
    "            new_spans = []\n",
    "            for span in spans:\n",
    "                for label, (color, shortcut) in self.label_config.items():\n",
    "                    if key == shortcut:\n",
    "                        new_spans.append({\n",
    "                            \"begin\": span[\"begin\"],\n",
    "                            \"end\": span[\"end\"],\n",
    "                            \"label\": [label],\n",
    "                            \"id\": \"T{}\".format(next_span_id),\n",
    "                            \"highlighted\": False,\n",
    "                            \"selected\": False,\n",
    "                            \"custom_link\": \"\",\n",
    "                        })\n",
    "                        next_span_id += 1\n",
    "                        added_spans = True\n",
    "                if key == \" \":\n",
    "                    pass\n",
    "                    # Do something\n",
    "                    #added_spans = True\n",
    "            if not len(new_spans):\n",
    "                return\n",
    "            self.state[\"spans\"].extend(new_spans)\n",
    "        self.state[\"mouse_selection\"] = []\n",
    "        self.state[\"next_span_id\"] = next_span_id\n",
    "            \n",
    "    @produce\n",
    "    def handle_click_span(self, editor_id, span_id, modkeys):\n",
    "        if \"Shift\" in modkeys:\n",
    "            for span in self.state[\"spans\"]:\n",
    "                if span['id'] == span_id:\n",
    "                    span['selected'] = not span['selected']\n",
    "        \n",
    "    @kernel_only\n",
    "    @produce\n",
    "    def change_doc(self, key):\n",
    "        doc = next(doc for doc in self.dataset if doc[\"doc_id\"] == key)\n",
    "        self.state[\"text\"] = doc[\"text\"]\n",
    "        self.state[\"doc_id\"] = doc[\"doc_id\"]\n",
    "        self.state[\"spans\"] = [\n",
    "            {\n",
    "                \"begin\": s[\"begin\"],\n",
    "                \"end\": s[\"end\"],\n",
    "                \"label\": [e[\"label\"]],\n",
    "                \"highlighted\": False,\n",
    "                \"selected\": False,\n",
    "                \"id\": e[\"entity_id\"],\n",
    "                \"key\": e[\"entity_id\"],\n",
    "                \"custom_link\": \"\",\n",
    "                \"attributes\": {\n",
    "                    a['label']: a['value']\n",
    "                    for a in e['attributes']\n",
    "                }\n",
    "            }\n",
    "            for e in doc[\"entities\"]\n",
    "            for s in e[\"fragments\"]\n",
    "        ]\n",
    "        self.state[\"mouse_selection\"] = []\n",
    "        self.state[\"next_span_id\"] = 1\n",
    "    \n",
    "    def handle_click_cell_content(self, editor_id, key):\n",
    "        if editor_id == \"docs-table\":\n",
    "            print(\"Changing doc\")\n",
    "            self.change_doc(key)\n",
    "        else:\n",
    "            self.scroll_to_span(\"my-editor\", key)\n",
    "    \n",
    "    @produce\n",
    "    def handle_select_rows(self, editor_id, span_ids):\n",
    "        for span in self.state[\"spans\"]:\n",
    "            span['selected'] = span['id'] in span_ids\n",
    "            \n",
    "    @produce\n",
    "    def handle_cell_change(self, editor_id, row_idx, col, value):\n",
    "        console.log(\"CELL CHANGE\", editor_id, row_idx, col, value)\n",
    "        if col == \"label\":\n",
    "            self.state[\"spans\"][row_idx][\"label\"] = value\n",
    "        if col == \"custom_link\":\n",
    "            self.state[\"spans\"][row_idx][\"custom_link\"] = value\n",
    "    \n",
    "    # @kernel_only\n",
    "    # def add_auto_span(self, editor_id, begin, end):\n",
    "    #     mention_text = self.get_state()[\"editors\"][editor_id][\"text\"][begin:end]\n",
    "    #     #label = self.ml.predict(mention_text)\n",
    "    #     label = mysuper_complicated_function(mention_text)\n",
    "    #     self.add_one_span(editor_id, begin, end, label, label)\n",
    "        \n",
    "import time\n",
    "def mysuper_complicated_function(mention_text):\n",
    "    # time.sleep(3)\n",
    "    return \"temp\" if len(mention_text) > 10 else \"neg\"\n",
    "\n",
    "try: app.set_class(BRATApp)\n",
    "except: pass"
   ]
  },
  {
   "cell_type": "code",
   "execution_count": 49,
   "metadata": {},
   "outputs": [],
   "source": [
    "app = BRATApp(\"/Users/perceval/Development/data/resources/brat/deft-2020-t3/t3-appr/\")"
   ]
  },
  {
   "cell_type": "code",
   "execution_count": 18,
   "metadata": {},
   "outputs": [],
   "source": [
    "app.change_doc(\"filepdf-216-cas\")"
   ]
  },
  {
   "cell_type": "code",
   "execution_count": 50,
   "metadata": {
    "collapsed": true,
    "jupyter": {
     "outputs_hidden": true
    },
    "tags": []
   },
   "outputs": [
    {
     "data": {
      "application/vnd.jupyter.annotator+json": {
       "editor-id": "my-editor",
       "editor-type": "span-editor",
       "version_major": 0,
       "version_minor": 0
      },
      "text/plain": [
       "<jupytanno.views.SpanEditor object at 0x7fd2658fc460>"
      ]
     },
     "execution_count": 50,
     "metadata": {},
     "output_type": "execute_result"
    }
   ],
   "source": [
    "app.span_editor(\"my-editor\")"
   ]
  },
  {
   "cell_type": "code",
   "execution_count": 51,
   "metadata": {
    "collapsed": true,
    "jupyter": {
     "outputs_hidden": true
    },
    "tags": []
   },
   "outputs": [
    {
     "data": {
      "application/vnd.jupyter.annotator+json": {
       "editor-id": "my-editor",
       "editor-type": "span-editor",
       "version_major": 0,
       "version_minor": 0
      },
      "text/plain": [
       "<jupytanno.views.SpanEditor object at 0x7fd2658fcd30>"
      ]
     },
     "execution_count": 51,
     "metadata": {},
     "output_type": "execute_result"
    }
   ],
   "source": [
    "app.span_editor(\"my-editor\")"
   ]
  },
  {
   "cell_type": "code",
   "execution_count": 52,
   "metadata": {
    "collapsed": true,
    "jupyter": {
     "outputs_hidden": true
    },
    "tags": []
   },
   "outputs": [
    {
     "data": {
      "application/vnd.jupyter.annotator+json": {
       "editor-id": "mentions-table",
       "editor-type": "table-editor",
       "version_major": 0,
       "version_minor": 0
      },
      "text/plain": [
       "<jupytanno.views.TableEditor object at 0x7fd2658fc670>"
      ]
     },
     "execution_count": 52,
     "metadata": {},
     "output_type": "execute_result"
    }
   ],
   "source": [
    "app.table_editor(name=\"mentions-table\")"
   ]
  },
  {
   "cell_type": "code",
   "execution_count": 53,
   "metadata": {
    "collapsed": true,
    "jupyter": {
     "outputs_hidden": true
    },
    "tags": []
   },
   "outputs": [
    {
     "data": {
      "application/vnd.jupyter.annotator+json": {
       "editor-id": "docs-table",
       "editor-type": "table-editor",
       "version_major": 0,
       "version_minor": 0
      },
      "text/plain": [
       "<jupytanno.views.TableEditor object at 0x7fd2658fc5e0>"
      ]
     },
     "execution_count": 53,
     "metadata": {},
     "output_type": "execute_result"
    }
   ],
   "source": [
    "app.table_editor(name=\"docs-table\")"
   ]
  },
  {
   "cell_type": "code",
   "execution_count": 4,
   "metadata": {},
   "outputs": [],
   "source": [
    "buttons=[\n",
    "            #    {\"type\": 'button', \"label\": \"⌫\", \"color\": 'white', \"key\": \"delete\"},\n",
    "            #    {\"type\": 'spacer'},\n",
    "            #    {\"type\": 'button', \"label\": \"Lateralité\", \"secondary\": self.label_config[\"lat\"][1], \"color\": self.label_config[\"lat\"][0], \"key\": \"lat\"},\n",
    "            #    {\"type\": 'button', \"label\": \"ACR\", \"secondary\": self.label_config[\"acr\"][1], \"color\": self.label_config[\"acr\"][0], \"key\": \"acr\"},\n",
    "            #    {\"type\": 'button', \"label\": \"Negation\", \"secondary\": self.label_config[\"neg\"][1], \"color\": self.label_config[\"neg\"][0], \"key\": \"neg\"},\n",
    "            #    {\"type\": 'button', \"label\": \"Quadrant\", \"secondary\": self.label_config[\"quad\"][1], \"color\": self.label_config[\"quad\"][0], \"key\": \"quad\"},\n",
    "            #    {\"type\": 'button', \"label\": \"Cible\", \"secondary\": self.label_config[\"target\"][1], \"color\": self.label_config[\"target\"][0], \"key\": \"target\"},\n",
    "            #    {\"type\": 'button', \"label\": \"Mesure\", \"secondary\": self.label_config[\"mesure\"][1], \"color\": self.label_config[\"mesure\"][0], \"key\": \"mesure\"},\n",
    "            #    {\"type\": 'button', \"label\": \"Temporalité\", \"secondary\": self.label_config[\"temp\"][1], \"color\": self.label_config[\"temp\"][0], \"key\": \"temp\"},\n",
    "            #    *buttons,\n",
    "            #\n",
    "]"
   ]
  }
 ],
 "metadata": {
  "kernelspec": {
   "display_name": "Python 3",
   "language": "python",
   "name": "python3"
  },
  "language_info": {
   "codemirror_mode": {
    "name": "ipython",
    "version": 3
   },
   "file_extension": ".py",
   "mimetype": "text/x-python",
   "name": "python",
   "nbconvert_exporter": "python",
   "pygments_lexer": "ipython3",
   "version": "3.8.8"
  },
  "widgets": {
   "application/vnd.jupyter.widget-state+json": {
    "state": {},
    "version_major": 2,
    "version_minor": 0
   }
  }
 },
 "nbformat": 4,
 "nbformat_minor": 4
}
