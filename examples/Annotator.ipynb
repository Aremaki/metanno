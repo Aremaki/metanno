{
 "cells": [
  {
   "cell_type": "markdown",
   "metadata": {},
   "source": [
    "# Metanno demo\n",
    "\n",
    "In the `recipes/ner.py` file is the main class of the application, it contains everything that allows us to control the application, that is what should be rendered, and how we should react to events.\n",
    "\n",
    "The `select_editor_state` function returns a json object based on the view that calls it.  \n",
    "In this example, we have three editors: one to render the annotations on the text, one to render them as an array, and one to view the list of documents.\n",
    "\n",
    "The `handle_...` functions define how the application should react to a user event.  \n",
    "The `@produce` decorator is used to allow the application to track state mutations in these functions.  \n",
    "For instance, look at how we handle a span hover with the `handle_enter_span` and `handle_leave_span` functions.\n",
    "To force the execution of a function only in the frontend or kernel, the `@kernel_only` and `@frontend_only` decorators must be used (note that we only use the `@frontend_only` decorator to keep the span hover logic in the browser). \n",
    "\n",
    "To start the application, run each cell of the notebook.\n",
    "\n",
    "You can change the layout of these views by right-clicking on them, clicking on `Detach` and moving them around."
   ]
  },
  {
   "cell_type": "code",
   "execution_count": null,
   "metadata": {},
   "outputs": [],
   "source": [
    "from metanno.recipes.ner import NERApp, colors\n",
    "from metanno.connectors import BratDataConnector"
   ]
  },
  {
   "cell_type": "code",
   "execution_count": null,
   "metadata": {},
   "outputs": [],
   "source": [
    "data = BratDataConnector(\"./dataset/\", overwrite_ann=True)\n",
    "\n",
    "labels = sorted(set([ent[\"label\"] for doc in data.load() for ent in doc[\"entities\"]]))\n",
    "keys = {\"modality\": \"m\", \"experiencer\": \"x\", \"time\": \"t\"}\n",
    "for label in labels:\n",
    "    keys[label] = next(letter for letter in label.lower() if letter not in keys.values())\n",
    "app = NERApp(\n",
    "    data=data,\n",
    "    suggester=None,\n",
    "    scheme={\n",
    "        \"labels\": [\n",
    "            {\"name\": label, \"color\": colors[i], \"key\": keys[label], \"alias\": label}\n",
    "            for i, label in enumerate(labels)\n",
    "        ],\n",
    "        \"attributes\": [{\n",
    "            \"name\": \"modality\",\n",
    "            \"kind\": \"text\",\n",
    "            \"key\": \"m\",\n",
    "            \"color\": \"lightgrey\",\n",
    "            \"choices\": [\"factual\", \"negated\", \"conditional\", \"counterindication\", \"uncertain\", \"suggested\"]\n",
    "        }, {\n",
    "            \"name\": \"experiencer\",\n",
    "            \"kind\": \"text\",\n",
    "            \"key\": \"x\",\n",
    "            \"color\": \"lightgrey\",\n",
    "            \"choices\": [\"self\", \"family\", \"other\"],\n",
    "        }, {\n",
    "            \"name\": \"time\",\n",
    "            \"kind\": \"text\",\n",
    "            \"key\": \"t\",\n",
    "            \"color\": \"lightgrey\",\n",
    "            \"choices\": [\"present\", \"past\", \"future\"],\n",
    "        }, {\n",
    "            \"name\": \"concept\",\n",
    "            \"kind\": \"text\",\n",
    "            \"color\": \"lightgrey\",\n",
    "            \"choices\": [f\"C{n:04}\" for n in range(10000)],\n",
    "        }],\n",
    "    },\n",
    ")"
   ]
  },
  {
   "cell_type": "code",
   "execution_count": null,
   "metadata": {
    "tags": []
   },
   "outputs": [],
   "source": [
    "app.span_editor(\"text\")"
   ]
  },
  {
   "cell_type": "code",
   "execution_count": null,
   "metadata": {
    "tags": []
   },
   "outputs": [],
   "source": [
    "app.table_editor(\"docs\")"
   ]
  },
  {
   "cell_type": "code",
   "execution_count": null,
   "metadata": {
    "tags": []
   },
   "outputs": [],
   "source": [
    "app.table_editor(\"entities\")"
   ]
  },
  {
   "cell_type": "code",
   "execution_count": null,
   "metadata": {},
   "outputs": [],
   "source": [
    "# You can call the app methods from Python\n",
    "# and observe the changes directly in your browser\n",
    "app.change_doc(\"doc-2.txt\")"
   ]
  },
  {
   "cell_type": "code",
   "execution_count": null,
   "metadata": {},
   "outputs": [],
   "source": [
    "# and even mutate any part of the state directly\n",
    "app.state[\"doc_id\"] = 0  # set to the first doc"
   ]
  },
  {
   "cell_type": "code",
   "execution_count": null,
   "metadata": {},
   "outputs": [],
   "source": [
    "# Inspect the state\n",
    "app.state"
   ]
  }
 ],
 "metadata": {
  "kernelspec": {
   "display_name": "Python 3",
   "language": "python",
   "name": "python3"
  },
  "language_info": {
   "codemirror_mode": {
    "name": "ipython",
    "version": 3
   },
   "file_extension": ".py",
   "mimetype": "text/x-python",
   "name": "python",
   "nbconvert_exporter": "python",
   "pygments_lexer": "ipython3",
   "version": "3.8.8"
  },
  "widgets": {
   "application/vnd.jupyter.widget-state+json": {
    "state": {},
    "version_major": 2,
    "version_minor": 0
   }
  }
 },
 "nbformat": 4,
 "nbformat_minor": 4
}
